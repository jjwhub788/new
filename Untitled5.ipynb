{
  "nbformat": 4,
  "nbformat_minor": 0,
  "metadata": {
    "colab": {
      "provenance": [],
      "authorship_tag": "ABX9TyNQmyLJwj3OkqkOIdbqxusN",
      "include_colab_link": true
    },
    "kernelspec": {
      "name": "python3",
      "display_name": "Python 3"
    },
    "language_info": {
      "name": "python"
    }
  },
  "cells": [
    {
      "cell_type": "markdown",
      "metadata": {
        "id": "view-in-github",
        "colab_type": "text"
      },
      "source": [
        "<a href=\"https://colab.research.google.com/github/jjwhub788/new/blob/main/Untitled5.ipynb\" target=\"_parent\"><img src=\"https://colab.research.google.com/assets/colab-badge.svg\" alt=\"Open In Colab\"/></a>"
      ]
    },
    {
      "cell_type": "code",
      "source": [
        "import jax.numpy as jnp\n",
        "from jax import grad, jit, vmap\n",
        "from jax import random"
      ],
      "metadata": {
        "id": "Z4ZBkWOttZwk"
      },
      "execution_count": 1,
      "outputs": []
    },
    {
      "cell_type": "code",
      "execution_count": 3,
      "metadata": {
        "collapsed": true,
        "id": "ijd84msfsfqJ"
      },
      "outputs": [],
      "source": [
        "# !pip install flax"
      ]
    },
    {
      "cell_type": "code",
      "source": [
        "import jax\n",
        "import flax\n",
        "import optax"
      ],
      "metadata": {
        "id": "yhyMYP6wtzyP"
      },
      "execution_count": 4,
      "outputs": []
    },
    {
      "cell_type": "code",
      "source": [
        "print(\"Jax Version : {}\".format(jax.__version__))\n",
        "print(\"Flax Version : {}\".format(flax.__version__))\n",
        "print(\"Optax Version : {}\".format(optax.__version__))"
      ],
      "metadata": {
        "colab": {
          "base_uri": "https://localhost:8080/"
        },
        "id": "3o0x1t0rt4XM",
        "outputId": "040e9c01-cc1d-47ed-9504-77b270261f3e"
      },
      "execution_count": 4,
      "outputs": [
        {
          "output_type": "stream",
          "name": "stdout",
          "text": [
            "Jax Version : 0.5.3\n",
            "Flax Version : 0.10.6\n",
            "Optax Version : 0.2.5\n"
          ]
        }
      ]
    },
    {
      "cell_type": "code",
      "source": [
        "!pip install datasets"
      ],
      "metadata": {
        "colab": {
          "base_uri": "https://localhost:8080/"
        },
        "id": "0PAyX-ERyJgM",
        "outputId": "111f13ea-d25a-453a-a97c-fbc900f9b49a"
      },
      "execution_count": 5,
      "outputs": [
        {
          "output_type": "stream",
          "name": "stdout",
          "text": [
            "Requirement already satisfied: datasets in /usr/local/lib/python3.12/dist-packages (4.0.0)\n",
            "Requirement already satisfied: filelock in /usr/local/lib/python3.12/dist-packages (from datasets) (3.19.1)\n",
            "Requirement already satisfied: numpy>=1.17 in /usr/local/lib/python3.12/dist-packages (from datasets) (2.0.2)\n",
            "Requirement already satisfied: pyarrow>=15.0.0 in /usr/local/lib/python3.12/dist-packages (from datasets) (18.1.0)\n",
            "Requirement already satisfied: dill<0.3.9,>=0.3.0 in /usr/local/lib/python3.12/dist-packages (from datasets) (0.3.8)\n",
            "Requirement already satisfied: pandas in /usr/local/lib/python3.12/dist-packages (from datasets) (2.2.2)\n",
            "Requirement already satisfied: requests>=2.32.2 in /usr/local/lib/python3.12/dist-packages (from datasets) (2.32.4)\n",
            "Requirement already satisfied: tqdm>=4.66.3 in /usr/local/lib/python3.12/dist-packages (from datasets) (4.67.1)\n",
            "Requirement already satisfied: xxhash in /usr/local/lib/python3.12/dist-packages (from datasets) (3.5.0)\n",
            "Requirement already satisfied: multiprocess<0.70.17 in /usr/local/lib/python3.12/dist-packages (from datasets) (0.70.16)\n",
            "Requirement already satisfied: fsspec<=2025.3.0,>=2023.1.0 in /usr/local/lib/python3.12/dist-packages (from fsspec[http]<=2025.3.0,>=2023.1.0->datasets) (2025.3.0)\n",
            "Requirement already satisfied: huggingface-hub>=0.24.0 in /usr/local/lib/python3.12/dist-packages (from datasets) (0.34.4)\n",
            "Requirement already satisfied: packaging in /usr/local/lib/python3.12/dist-packages (from datasets) (25.0)\n",
            "Requirement already satisfied: pyyaml>=5.1 in /usr/local/lib/python3.12/dist-packages (from datasets) (6.0.2)\n",
            "Requirement already satisfied: aiohttp!=4.0.0a0,!=4.0.0a1 in /usr/local/lib/python3.12/dist-packages (from fsspec[http]<=2025.3.0,>=2023.1.0->datasets) (3.12.15)\n",
            "Requirement already satisfied: typing-extensions>=3.7.4.3 in /usr/local/lib/python3.12/dist-packages (from huggingface-hub>=0.24.0->datasets) (4.14.1)\n",
            "Requirement already satisfied: hf-xet<2.0.0,>=1.1.3 in /usr/local/lib/python3.12/dist-packages (from huggingface-hub>=0.24.0->datasets) (1.1.7)\n",
            "Requirement already satisfied: charset_normalizer<4,>=2 in /usr/local/lib/python3.12/dist-packages (from requests>=2.32.2->datasets) (3.4.3)\n",
            "Requirement already satisfied: idna<4,>=2.5 in /usr/local/lib/python3.12/dist-packages (from requests>=2.32.2->datasets) (3.10)\n",
            "Requirement already satisfied: urllib3<3,>=1.21.1 in /usr/local/lib/python3.12/dist-packages (from requests>=2.32.2->datasets) (2.5.0)\n",
            "Requirement already satisfied: certifi>=2017.4.17 in /usr/local/lib/python3.12/dist-packages (from requests>=2.32.2->datasets) (2025.8.3)\n",
            "Requirement already satisfied: python-dateutil>=2.8.2 in /usr/local/lib/python3.12/dist-packages (from pandas->datasets) (2.9.0.post0)\n",
            "Requirement already satisfied: pytz>=2020.1 in /usr/local/lib/python3.12/dist-packages (from pandas->datasets) (2025.2)\n",
            "Requirement already satisfied: tzdata>=2022.7 in /usr/local/lib/python3.12/dist-packages (from pandas->datasets) (2025.2)\n",
            "Requirement already satisfied: aiohappyeyeballs>=2.5.0 in /usr/local/lib/python3.12/dist-packages (from aiohttp!=4.0.0a0,!=4.0.0a1->fsspec[http]<=2025.3.0,>=2023.1.0->datasets) (2.6.1)\n",
            "Requirement already satisfied: aiosignal>=1.4.0 in /usr/local/lib/python3.12/dist-packages (from aiohttp!=4.0.0a0,!=4.0.0a1->fsspec[http]<=2025.3.0,>=2023.1.0->datasets) (1.4.0)\n",
            "Requirement already satisfied: attrs>=17.3.0 in /usr/local/lib/python3.12/dist-packages (from aiohttp!=4.0.0a0,!=4.0.0a1->fsspec[http]<=2025.3.0,>=2023.1.0->datasets) (25.3.0)\n",
            "Requirement already satisfied: frozenlist>=1.1.1 in /usr/local/lib/python3.12/dist-packages (from aiohttp!=4.0.0a0,!=4.0.0a1->fsspec[http]<=2025.3.0,>=2023.1.0->datasets) (1.7.0)\n",
            "Requirement already satisfied: multidict<7.0,>=4.5 in /usr/local/lib/python3.12/dist-packages (from aiohttp!=4.0.0a0,!=4.0.0a1->fsspec[http]<=2025.3.0,>=2023.1.0->datasets) (6.6.4)\n",
            "Requirement already satisfied: propcache>=0.2.0 in /usr/local/lib/python3.12/dist-packages (from aiohttp!=4.0.0a0,!=4.0.0a1->fsspec[http]<=2025.3.0,>=2023.1.0->datasets) (0.3.2)\n",
            "Requirement already satisfied: yarl<2.0,>=1.17.0 in /usr/local/lib/python3.12/dist-packages (from aiohttp!=4.0.0a0,!=4.0.0a1->fsspec[http]<=2025.3.0,>=2023.1.0->datasets) (1.20.1)\n",
            "Requirement already satisfied: six>=1.5 in /usr/local/lib/python3.12/dist-packages (from python-dateutil>=2.8.2->pandas->datasets) (1.17.0)\n"
          ]
        }
      ]
    },
    {
      "cell_type": "code",
      "source": [
        "import jax.numpy as jnp\n",
        "from tensorflow.keras.datasets import mnist\n",
        "\n",
        "def get_datasets():\n",
        "    (train_images, train_labels), (test_images, test_labels) = mnist.load_data()\n",
        "\n",
        "    train_ds = {\n",
        "    \"image\": jnp.array(train_images)[..., None].astype(jnp.float32) / 255.0,\n",
        "    \"label\": jnp.array(train_labels)\n",
        "    }\n",
        "    test_ds = {\n",
        "    \"image\": jnp.array(test_images)[..., None].astype(jnp.float32) / 255.0,\n",
        "    \"label\": jnp.array(test_labels)\n",
        "    }\n",
        "\n",
        "    return train_ds, test_ds"
      ],
      "metadata": {
        "id": "X5I0WiYE6-1x"
      },
      "execution_count": 8,
      "outputs": []
    },
    {
      "cell_type": "code",
      "source": [
        "train_ds, test_ds = get_datasets()"
      ],
      "metadata": {
        "colab": {
          "base_uri": "https://localhost:8080/"
        },
        "id": "ytCU7LMG-Uyr",
        "outputId": "7dcbf9bd-1ae9-4b16-f467-74d4fae69b1f"
      },
      "execution_count": 9,
      "outputs": [
        {
          "output_type": "stream",
          "name": "stdout",
          "text": [
            "Downloading data from https://storage.googleapis.com/tensorflow/tf-keras-datasets/mnist.npz\n",
            "\u001b[1m11490434/11490434\u001b[0m \u001b[32m━━━━━━━━━━━━━━━━━━━━\u001b[0m\u001b[37m\u001b[0m \u001b[1m0s\u001b[0m 0us/step\n"
          ]
        }
      ]
    },
    {
      "cell_type": "code",
      "source": [
        "print(train_ds[\"image\"].shape, train_ds[\"label\"].shape)"
      ],
      "metadata": {
        "colab": {
          "base_uri": "https://localhost:8080/"
        },
        "id": "abj7wIa11Krw",
        "outputId": "ce39dacf-688a-4882-c9dd-eb7100abb888"
      },
      "execution_count": 10,
      "outputs": [
        {
          "output_type": "stream",
          "name": "stdout",
          "text": [
            "(60000, 28, 28, 1) (60000,)\n"
          ]
        }
      ]
    },
    {
      "cell_type": "code",
      "source": [
        "# from datasets import load_dataset\n",
        "\n",
        "# # def get_datasets():\n",
        "# #     datasets = load_dataset(\"mnist\")\n",
        "# #     datasets = datasets.with_format(\"jax\")\n",
        "# #     datasets = {\n",
        "# #         \"train\": {\n",
        "# #             \"image\":datasets[\"train\"][\"image\"][...,None].astype(jnp.float32)/255,\n",
        "# #             \"label\":datasets[\"train\"][\"label\"],\n",
        "# #         },\n",
        "# #         \"test\": {\n",
        "# #              \"image\":datasets[\"test\"][\"image\"][...,None].astype(jnp.float32)/255,\n",
        "# #             \"label\":datasets[\"test\"][\"label\"],\n",
        "# #         },\n",
        "# #     }\n",
        "# #     return datasets['train'], datasets['test']\n",
        "\n",
        "# def get_datasets():\n",
        "#      raw_datasets = load_dataset(\"mnist\")\n",
        "#      raw_datasets.set_format(type=\"numpy\")\n",
        "\n",
        "#      train = raw_datasets[\"train\"][:]\n",
        "#      test = raw_datasets[\"test\"][:]\n",
        "\n",
        "#      datasets = {\n",
        "#          \"train\": {\n",
        "#              \"image\":datasets[\"train\"][\"image\"][:, :, :, None].astype(jnp.float32)/255,\n",
        "#              \"label\":datasets[\"train\"][\"label\"],\n",
        "#          },\n",
        "#          \"test\": {\n",
        "#               \"image\":datasets[\"test\"][\"image\"][:, :, :, None].astype(jnp.float32)/255,\n",
        "#              \"label\":datasets[\"test\"][\"label\"],\n",
        "#          },\n",
        "#      }\n",
        "#      return datasets['train'], datasets['test']"
      ],
      "metadata": {
        "id": "wBMn2FAquho3"
      },
      "execution_count": 6,
      "outputs": []
    },
    {
      "cell_type": "code",
      "source": [
        "#setup 방식\n",
        "from flax import linen as nn\n",
        "\n",
        "class CNN(nn.Module):\n",
        "  num_classes: int\n",
        "\n",
        "  def setup(self):\n",
        "    self.conv1 = nn.Conv(features=16, kernel_size=(5,5),strides=(2,2), padding='VALID')\n",
        "    self.conv2 = nn.Conv(features=16, kernel_size=(5,5),strides=(2,2), padding='VALID')\n",
        "    self.dense1 = nn.Dense(features=self.num_classes)\n",
        "\n",
        "  def __call__(self, x):\n",
        "    x = self.conv1(x)\n",
        "    x = nn.relu(x) #파라미터가 없는 연산이라 relu가 적합 단순 선형변환만\n",
        "    x = self.conv2(x)\n",
        "    x = nn.relu(x)\n",
        "    x = jnp.mean(x, axis=(1,2))\n",
        "    x = self.dense1(x)\n",
        "    return x"
      ],
      "metadata": {
        "id": "wxJAptIlv5RT"
      },
      "execution_count": 11,
      "outputs": []
    },
    {
      "cell_type": "code",
      "source": [
        "#compact 방식\n",
        "from flax import linen as nn\n",
        "\n",
        "class CNN(nn.Module):\n",
        "  num_classes: int\n",
        "\n",
        "  @nn.compact\n",
        "  def __call__(self, x):\n",
        "    x = nn.Conv(features=16, kernel_size=(5,5),strides=(2,2), padding='VALID')(x)\n",
        "    x = nn.relu(x)\n",
        "    x = nn.Conv(features=16, kernel_size=(5,5),strides=(2,2), padding='VALID')(x)\n",
        "    x = nn.relu(x)\n",
        "    x = jnp.mean(x, axis=(1,2))\n",
        "    x = nn.Dense(features=self.num_classes)(x)  #nn.Dense가 선형변환해주는 역할\n",
        "    return x"
      ],
      "metadata": {
        "id": "h4k3iUddzuG5"
      },
      "execution_count": 12,
      "outputs": []
    },
    {
      "cell_type": "code",
      "source": [
        "rng = jax.random.PRNGKey(0)\n",
        "model = CNN(num_classes=10)\n",
        "rng, key = jax.random.split(rng)\n",
        "variables = model.init(key, jnp.ones([1, 28, 28, 1]))\n",
        "params = variables['params']"
      ],
      "metadata": {
        "id": "V_T9XVPv0X3g"
      },
      "execution_count": 13,
      "outputs": []
    },
    {
      "cell_type": "code",
      "source": [
        "#메트릭(모델이 잘하고 있는지 평가하는 느낌)\n",
        "def compute_metrics(logits, labels):\n",
        "    loss = jnp.mean(optax.softmax_cross_entropy(logits,jax.nn.one_hot(labels, num_classes=10)))\n",
        "    accuracy = jnp.mean(jnp.argmax(logits, -1) == labels)\n",
        "    metrics = {\n",
        "      'loss': loss,\n",
        "      'accuracy': accuracy,\n",
        "    }\n",
        "    return metrics"
      ],
      "metadata": {
        "id": "KmflfjBC0vpc"
      },
      "execution_count": 14,
      "outputs": []
    },
    {
      "cell_type": "code",
      "source": [
        "#Trainstate: 학습에 필요한 요소를 넣어놓은 상자 느낌\n",
        "from flax.training.train_state import TrainState\n",
        "from flax import linen as nn\n",
        "\n",
        "learning_rate = 0.001\n",
        "tx = optax.adam(learning_rate)\n",
        "state = TrainState.create(apply_fn=model.apply,\n",
        "                          params=params,\n",
        "                          tx=tx)"
      ],
      "metadata": {
        "id": "lLigngg81xa0"
      },
      "execution_count": 15,
      "outputs": []
    },
    {
      "cell_type": "code",
      "source": [
        "@jax.jit\n",
        "def train_step(state, batch):\n",
        "    def loss_fn(params):\n",
        "        logits = state.apply_fn({'params': params}, batch['image'])\n",
        "        loss = jnp.mean(optax.softmax_cross_entropy(logits=logits, labels=jax.nn.one_hot(batch['label'], num_classes=10)))\n",
        "        return loss, logits\n",
        "\n",
        "    grad_fn = jax.value_and_grad(loss_fn, has_aux=True)\n",
        "    (_, logits), grads = grad_fn(state.params)\n",
        "    state = state.apply_gradients(grads=grads)\n",
        "    metrics = compute_metrics(logits, batch['label'])\n",
        "    return state, metrics"
      ],
      "metadata": {
        "id": "pL2_A6d627Nd"
      },
      "execution_count": 16,
      "outputs": []
    },
    {
      "cell_type": "code",
      "source": [
        "@jax.jit\n",
        "def eval_step(params, batch):\n",
        "    logits = state.apply_fn({'params': params}, batch['image'])\n",
        "    return compute_metrics(logits, batch['label'])"
      ],
      "metadata": {
        "id": "FLaXuveBidzS"
      },
      "execution_count": 17,
      "outputs": []
    },
    {
      "cell_type": "code",
      "source": [
        "def train_loop(state, train_ds, batch_size, epoch, rng):\n",
        "    train_ds_size =len(train_ds['image'])\n",
        "    steps_per_epoch = train_ds_size // batch_size\n",
        "\n",
        "    perms = jax.random.permutation(rng, train_ds_size)\n",
        "    perms = perms[:steps_per_epoch * batch_size]\n",
        "    perms = perms.reshape((steps_per_epoch, batch_size))\n",
        "\n",
        "    batch_metrics = []\n",
        "    for perm in perms:\n",
        "        batch = {k: v[perm, ...] for k, v in train_ds.items()}\n",
        "        state, metrics = train_step(state, batch)\n",
        "        batch_metrics.append(metrics)\n",
        "\n",
        "    training_batch_metrics = jax.device_get(batch_metrics)\n",
        "    training_epoch_metrics = {\n",
        "        k: sum([metrics[k] for metrics in training_batch_metrics])/steps_per_epoch\n",
        "        for k in training_batch_metrics[0]}\n",
        "\n",
        "    print('Epoch: %d\\nTraining loss: %.4f, accuracy: %.2f' %(epoch,training_epoch_metrics['loss'], training_epoch_metrics['accuracy']*100))\n",
        "    return state"
      ],
      "metadata": {
        "id": "FfaSGVQ2imHb"
      },
      "execution_count": 18,
      "outputs": []
    },
    {
      "cell_type": "code",
      "source": [
        "# def eval_loop(state, test_ds, batch_size):\n",
        "#     eval_ds_size = test_ds['image'].shape[0]\n",
        "#     steps_per_epoch = eval_ds_size // batch_size\n",
        "\n",
        "#     batch_metrics = [batch_size]\n",
        "#     for i in range(steps_per_epoch):\n",
        "#       batch = {k: v[i*batch_size:(i+1)*batch_size, ...] for k, v in test_ds.items()}\n",
        "#       metrics = eval_step(state.params, batch)\n",
        "#       batch_metrics.append(metrics)\n",
        "\n",
        "#     eval_batch_metrics = jax.device_get(batch_metrics)\n",
        "\n",
        "#     eval_batch_metrics = {\n",
        "#         k: sum([metrics[k] for metrics in eval_batch_metrics])/steps_per_epoch\n",
        "#        for k in eval_batch_metrics[0]}\n",
        "\n",
        "#     print('Eval loss: %.4f, accuracy: %.2f' %(eval_batch_metrics['loss'], eval_batch_metrics['accuracy']*100))"
      ],
      "metadata": {
        "id": "X1Yg-wqkj5tT"
      },
      "execution_count": 21,
      "outputs": []
    },
    {
      "cell_type": "code",
      "source": [
        "train_epoch = 10\n",
        "batch_size = 64\n",
        "eval_batch_size = 100\n",
        "\n",
        "for epoch in range(train_epoch):\n",
        "  rng, key = jax.random.split(rng)\n",
        "  state = train_loop(state, train_ds, batch_size, epoch, rng)\n",
        "#  eval_loop(state, test_ds, eval_batch_size)"
      ],
      "metadata": {
        "colab": {
          "base_uri": "https://localhost:8080/"
        },
        "id": "zG3lu5F04CXN",
        "outputId": "d71131bc-f209-4fc2-b8b5-316940ec5691"
      },
      "execution_count": 23,
      "outputs": [
        {
          "output_type": "stream",
          "name": "stdout",
          "text": [
            "Epoch: 0\n",
            "Training loss: 0.2945, accuracy: 91.57\n",
            "Epoch: 1\n",
            "Training loss: 0.2496, accuracy: 92.84\n",
            "Epoch: 2\n",
            "Training loss: 0.2237, accuracy: 93.62\n",
            "Epoch: 3\n",
            "Training loss: 0.2064, accuracy: 93.98\n",
            "Epoch: 4\n",
            "Training loss: 0.1928, accuracy: 94.40\n",
            "Epoch: 5\n",
            "Training loss: 0.1771, accuracy: 94.81\n",
            "Epoch: 6\n",
            "Training loss: 0.1693, accuracy: 95.05\n",
            "Epoch: 7\n",
            "Training loss: 0.1613, accuracy: 95.25\n",
            "Epoch: 8\n",
            "Training loss: 0.1535, accuracy: 95.48\n",
            "Epoch: 9\n",
            "Training loss: 0.1477, accuracy: 95.64\n"
          ]
        }
      ]
    },
    {
      "cell_type": "code",
      "source": [
        "metrics = eval_step(state.params, test_ds)"
      ],
      "metadata": {
        "id": "w_j1R0M-3C-x"
      },
      "execution_count": 24,
      "outputs": []
    },
    {
      "cell_type": "code",
      "source": [
        "logits = state.apply_fn({'params': params}, test_ds['image'][:25])\n",
        "targets = test_ds['label'][:25]\n",
        "pred = logits.argmax(axis=1)"
      ],
      "metadata": {
        "id": "pA8Z_egj3jo_"
      },
      "execution_count": 86,
      "outputs": []
    },
    {
      "cell_type": "code",
      "source": [
        "import matplotlib.pyplot as plt"
      ],
      "metadata": {
        "id": "LOp5lo-Y4iK4"
      },
      "execution_count": 87,
      "outputs": []
    },
    {
      "cell_type": "code",
      "source": [
        "idx = 0\n",
        "plt.imshow(test_ds['image'][idx].reshape(28,28))\n",
        "plt.title(f\"targets: {test_ds['label'][idx]}, pred: {pred[idx]:.2f}\")\n",
        "plt.show()"
      ],
      "metadata": {
        "colab": {
          "base_uri": "https://localhost:8080/",
          "height": 452
        },
        "id": "QWUAd8J04agq",
        "outputId": "71405789-5a43-413b-e9af-8898f48ffa2e"
      },
      "execution_count": 88,
      "outputs": [
        {
          "output_type": "display_data",
          "data": {
            "text/plain": [
              "<Figure size 640x480 with 1 Axes>"
            ],
            "image/png": "[encoded data removed]"
          },
          "metadata": {}
        }
      ]
    },
    {
      "cell_type": "code",
      "source": [
        "def pred_step(state, batch):\n",
        "  logits = state.apply_fn({'params':state.params}, batch)\n",
        "  return logits.argmax(axis=1)\n",
        "\n",
        "pred = pred_step(state, test_ds['image'][:25])\n",
        "\n",
        "fig, axs = plt.subplots(5, 5, figsize=(12, 12))\n",
        "for i, ax in enumerate(axs.flatten()):\n",
        "    ax.imshow(test_ds['image'][i]) #, cmap='gray'\n",
        "    ax.set_title(f\"pred: {pred[i]}\")\n",
        "    ax.axis('off')\n",
        "plt.tight_layout()\n",
        "plt.show()"
      ],
      "metadata": {
        "colab": {
          "base_uri": "https://localhost:8080/",
          "height": 1000
        },
        "id": "NBms50y_6oPT",
        "outputId": "de1b669e-6e47-4b5e-c623-45d61be488b3"
      },
      "execution_count": 91,
      "outputs": [
        {
          "output_type": "display_data",
          "data": {
            "text/plain": [
              "<Figure size 1200x1200 with 25 Axes>"
            ],
            "image/png": "[encoded data removed]"
          },
          "metadata": {}
        }
      ]
    },
    {
      "cell_type": "code",
      "source": [],
      "metadata": {
        "id": "FDL62RkQ7De2"
      },
      "execution_count": null,
      "outputs": []
    }
  ]
}