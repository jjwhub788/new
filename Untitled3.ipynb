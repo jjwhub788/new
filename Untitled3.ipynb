{
  "nbformat": 4,
  "nbformat_minor": 0,
  "metadata": {
    "colab": {
      "provenance": [],
      "authorship_tag": "ABX9TyPMJK4O0cYmtUIxMVpFST3l"
    },
    "kernelspec": {
      "name": "python3",
      "display_name": "Python 3"
    },
    "language_info": {
      "name": "python"
    }
  },
  "cells": [
    {
      "cell_type": "code",
      "execution_count": null,
      "metadata": {
        "id": "KE9AYUUVfdZj"
      },
      "outputs": [],
      "source": [
        "import jax.numpy as jnp"
      ]
    },
    {
      "cell_type": "code",
      "source": [
        "arr = jnp.ones(shape=(5,5))"
      ],
      "metadata": {
        "id": "2_yAGsaRfk07"
      },
      "execution_count": null,
      "outputs": []
    },
    {
      "cell_type": "code",
      "source": [
        "vec = jnp.array([1, 2, 3, 4, 5])"
      ],
      "metadata": {
        "id": "49SW-EQ4fqqe"
      },
      "execution_count": null,
      "outputs": []
    },
    {
      "cell_type": "code",
      "source": [
        "print(arr @ vec)"
      ],
      "metadata": {
        "colab": {
          "base_uri": "https://localhost:8080/"
        },
        "id": "FvWU-brcfwa0",
        "outputId": "d6c72437-30c1-4035-8e36-b1cb40005507"
      },
      "execution_count": null,
      "outputs": [
        {
          "output_type": "stream",
          "name": "stdout",
          "text": [
            "[15. 15. 15. 15. 15.]\n"
          ]
        }
      ]
    },
    {
      "cell_type": "code",
      "source": [
        "hi"
      ],
      "metadata": {
        "id": "h02CDnoQgaNm"
      },
      "execution_count": null,
      "outputs": []
    }
  ]
}